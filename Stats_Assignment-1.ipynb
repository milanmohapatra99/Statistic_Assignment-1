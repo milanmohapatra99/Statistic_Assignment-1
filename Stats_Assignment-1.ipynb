{
 "cells": [
  {
   "cell_type": "markdown",
   "id": "b245c2ff-719a-4c87-a768-9e63ea4fad0b",
   "metadata": {},
   "source": [
    "Q1. What is statistics?"
   ]
  },
  {
   "cell_type": "markdown",
   "id": "572d6468-81c9-4987-8b30-021e5afc364b",
   "metadata": {},
   "source": [
    "Ans : Statistics is the science concerned with developing and studying methods for collecting, analyzing, interpreting and presenting empirical data."
   ]
  },
  {
   "cell_type": "markdown",
   "id": "4bcfbd0b-87d6-4101-a6a2-1efcff340a45",
   "metadata": {},
   "source": [
    "Q2. Define the different types of statistics and how do they differ from  each other?Provide an example of each type of data."
   ]
  },
  {
   "cell_type": "markdown",
   "id": "dded1d5a-e971-4419-a4ed-3a3601817f32",
   "metadata": {},
   "source": [
    "Ans : Statistics have majorly categorised into two types:\n",
    "\n",
    "1-Descriptive statistics\n",
    "2-Inferential statistics\n",
    "\n",
    "Descriptive Statistics : \n",
    "    \n",
    "The summarisation is one from a sample of population using parameters such as the mean or standard deviation.\n",
    "\n",
    "Descriptive statistics is a way to organise, represent and describe a collection of data using tables, graphs, and summary measures.\n",
    "\n",
    "For example, the collection of people in a city using the internet or using Television.\n",
    "\n",
    "Descriptive statistics are also categorised into four different categories:\n",
    "\n",
    "1-Measure of frequency\n",
    "\n",
    "2-Measure of dispersion\n",
    "\n",
    "3-Measure of central tendency\n",
    "\n",
    "4-Measure of position\n",
    "\n",
    "The frequency measurement displays the number of times a particular data occurs. Range, Variance, Standard Deviation are measures of dispersion. It identifies the spread of data. \n",
    "Central tendencies are the mean, median and mode of the data. And the measure of position describes the percentile and quartile ranks.\n",
    "\n",
    "Inferential Statistics:\n",
    "    \n",
    "once the data has been collected, analysed and summarised then we use these stats to describe the meaning of the collected data.\n",
    "Or we can say, it is used to draw conclusions from the data that depends on random variations such as observational errors, sampling variation, etc.\n",
    "\n",
    "Inferential Statistics is a method that allows us to use information collected from a sample to make decisions, predictions or inferences from a population. \n",
    "It grants us permission to give statements that goes beyond the available data or information. \n",
    "\n",
    "For example, deriving estimates from hypothetical research.\n",
    "\n",
    "Conclusion:\n",
    "    \n",
    "The two major areas of statistics are known as descriptive statistics, which describes the properties of sample and population data, and inferential statistics, which uses those properties to test hypotheses and draw conclusions. \n",
    "Descriptive statistics include mean (average), variance, skewness, and kurtosis.\n"
   ]
  },
  {
   "cell_type": "code",
   "execution_count": null,
   "id": "6651b1da-9258-4bbd-9ebf-8fb5e02ed97d",
   "metadata": {},
   "outputs": [],
   "source": [
    "Q.3 What are the different type of data and how do they differ from each other? Provide an example of each type of data"
   ]
  },
  {
   "cell_type": "markdown",
   "id": "61788dcc-1cb3-4ae9-aae0-23521eb8e9cf",
   "metadata": {},
   "source": [
    "Ans: There are two main types of statistics: \n",
    "    i- descriptive statistics ii- inferential statistics.\n",
    "\n",
    "Descriptive Statistics: Descriptive statistics involves the use of methods to summarize and describe data. Some examples of descriptive statistics include:\n",
    "\n",
    "Measures of central tendency: Mean, median, mode.\n",
    "\n",
    "Measures of variability: Range, variance, standard deviation.\n",
    "\n",
    "Graphical displays: Histograms, scatterplots, boxplots.\n",
    "\n",
    "For example, the collection of heights of entire classroom.\n",
    "\n",
    "Inferential Statistics: Inferential statistics involves the use of methods to make inferences or predictions about a population based on a sample of data. \n",
    "Some examples of inferential statistics include:\n",
    "\n",
    "Hypothesis testing: Used to determine if there is a significant difference between two groups or if a particular relationship exists between two variables.\n",
    "\n",
    "Estimation: Used to estimate population parameters from sample data.\n",
    "\n",
    "Regression analysis: Used to model the relationship between two or more variables.\n",
    "\n",
    "For example, deriving estimates from hypothetical research."
   ]
  },
  {
   "cell_type": "markdown",
   "id": "23610918-074e-453d-a1e9-fa2fee4c515f",
   "metadata": {},
   "source": [
    "Q4. Categorise the following datasets with respect to quantitative and qualitative data types:\n",
    "\n",
    "(i) Grading in exam: A+, A, B+, B, C+, C, D, E\n",
    "\n",
    "(ii) Colour of mangoes: yellow, green, orange, red\n",
    "\n",
    "(iii) Height data of a class: [178.9, 179, 179.5, 176, 177.2, 178.3, 175.8,...]\n",
    "\n",
    "(iv) Number of mangoes exported by a farm: [500, 600, 478, 672, ...]"
   ]
  },
  {
   "cell_type": "markdown",
   "id": "8b505cc5-c37b-4db1-91f2-23429da89ef9",
   "metadata": {},
   "source": [
    "Ans :   \n",
    "(i) Grading in exam: A+, A, B+, B, C+, C, D, E - Qualitative data\n",
    "\n",
    "(ii) Colour of mangoes: yellow, green, orange, red - Qualitative data\n",
    "\n",
    "(iii) Height data of a class: [178.9, 179, 179.5, 176, 177.2, 178.3, 175.8,...] - Quantitative data\n",
    "\n",
    "(iv) Number of mangoes exported by a farm: [500, 600, 478, 672, ...] - Quantitative data"
   ]
  },
  {
   "cell_type": "markdown",
   "id": "eabdb85b-1801-49f8-a74f-e2a3e0cab483",
   "metadata": {},
   "source": [
    "Q5. Explain the concept of levels of measurement and give an example of a variable for each level."
   ]
  },
  {
   "cell_type": "markdown",
   "id": "fbb42e8f-8023-412d-9634-ed309d08df00",
   "metadata": {},
   "source": [
    "Ans : Levels of measurement, also called scales of measurement. \n",
    "\n",
    "There are 4 levels of measurement:\n",
    "\n",
    "Nominal: The data can only be categorized.We can categorize your data by labelling them in mutually exclusive groups, but there is no order between the categories.\n",
    "Examples of nominal scales: Nationality(e.g. German, Cameroonian, Lebanese), Gender(Male or Female),Ethnicity,Car brands,Marital status(Married or Unmarried) etc..\n",
    "\n",
    "Ordinal: the data can be categorized and ranked.We can categorize and rank your data in an order, but you cannot say anything about the intervals between the rankings.\n",
    "Although you can rank the top 5 Olympic medallists, this scale does not tell you how close or far apart they are in number of wins.\n",
    "Examples of ordinal scales : Top 5 Olympic medallists,Language ability (e.g: beginner, intermediate, fluent),App Review Format (e.g:  Best, Good, Bad)\n",
    "\n",
    "Interval: the data can be categorized, ranked, and evenly spaced.\n",
    "You can categorize, rank, and infer equal intervals between neighboring data points, but there is no true zero point.\n",
    "The difference between any two adjacent temperatures is the same: one degree. But  zero degrees is defined differently depending on the scale – it doesn’t mean an absolute absence of temperature.\n",
    "The same is true for test scores and personality inventories. A zero on a test is arbitrary; it does not mean that the test-taker has an absolute lack of the trait being measured.\n",
    "\n",
    "Examples of interval scales:\n",
    "Test scores (e.g., IQ or exams)\n",
    "Personality inventories\n",
    "Temperature in Fahrenheit or Celsius\n",
    "\n",
    "Ratio: the data can be categorized, ranked, evenly spaced, and has a natural zero.We can categorize, rank, and infer equal intervals between neighboring data points, and there is a true zero point.\n",
    "A true zero means there is an absence of the variable of interest. In ratio scales, zero does mean an absolute lack of the variable.\n",
    "\n",
    "For example, in the Kelvin temperature scale, there are no negative degrees of temperature – zero means an absolute lack of thermal energy.\n",
    "Examples of ratio scales: \n",
    "Height\n",
    "Age\n",
    "Weight\n",
    "Temperature in Kelvin\n",
    "Students Mark in a class.\n"
   ]
  },
  {
   "cell_type": "markdown",
   "id": "3320c198-6852-4c0f-bb65-73c45cdeb541",
   "metadata": {},
   "source": [
    "Q6. Why is it important to understand the level of measurement when analyzing data? Provide an example to illustrate your answer."
   ]
  },
  {
   "cell_type": "markdown",
   "id": "2d25f11f-6887-4f14-85a1-b605caf0fe84",
   "metadata": {},
   "source": [
    "Ans : Level of measurement is important as it determines the type of statistical analysis you can carry out. As a result, it affects both the nature and the depth of insights you’re able to glean from your data. Certain statistical tests can only be performed where more precise levels of measurement have been used, so it’s essential to plan in advance how you’ll gather and measure your data.\n",
    "\n",
    "For example, if we have data on the favorite bike color of a group of people, we need to know the level of measurement of the variable to perform appropriate analysis. If the variable is measured on a nominal scale, we can only count the number of people who choose each color of bike and calculate the percentage of people for each color. We cannot compute a mean or variance because nominal data have no natural ordering or hierarchy. On the other hand, if the variable is measured on an ordinal scale, we can rank the colors from most to least popular and compute the median or mode. However, we cannot assume that the intervals between ranks are equal, and we cannot compute a meaningful mean or variance.\n",
    "\n",
    "In contrast, if the variable is measured on an interval or ratio scale, we can assume equal intervals between values and compute a meaningful mean and variance. For example, if we have data on the age of a group of people, we can calculate the mean, median, and standard deviation, which provide more detailed information about the distribution of the data.\n",
    "\n",
    "In Conclusion it is important to understand the level of measurement of variables in research, because the level of measurement determines the type of statistical analysis that can be conducted, and, therefore, the type of conclusions that can be drawn from the research.Learning about the four levels of measurement allows statisticians and analysts to more efficiently plan for research and present their findings."
   ]
  },
  {
   "cell_type": "markdown",
   "id": "950c0391-7a99-4a6b-b075-99be7b1e2f40",
   "metadata": {},
   "source": [
    "Q7. How nominal data type is different from ordinal data type."
   ]
  },
  {
   "cell_type": "markdown",
   "id": "04110775-03de-4fe4-b035-7f2e92694b4b",
   "metadata": {},
   "source": [
    "Ans : Nominal Data : Nominal data are those items which are distinguished by a simple naming system. They are data with no numeric value, such as profession. The nominal data just name a thing without applying it to an order related to other numbered items.\n",
    "\n",
    "Nominal data are also called categorical data. In the nominal scale, the subjects are only allocated to different categories. The values grouped into these categories have no meaningful order. There is no hierarchy. For example, gender and occupation are nominal level values.\n",
    "\n",
    "Ordinal Data :ordinal data is simply what the name imples: data that is ordered or ranked. When it comes to ordinal data, however, the tricky part is a lack of consistent spacing between ranks.\n",
    "\n",
    "Conclusion:\n",
    "    \n",
    "Ordinal data is data that can be ranked or ordered. Examples include data taken from a poll or survey.\n",
    "Nominal data is data that can be made to fit various categories. Examples include whether an animal is a mammal, fish, reptile, amphibian, or bird."
   ]
  },
  {
   "cell_type": "markdown",
   "id": "0afad154-6903-407a-9b00-847ce2074bab",
   "metadata": {},
   "source": [
    "Q8. Which type of plot can be used to display data in terms of range?"
   ]
  },
  {
   "cell_type": "markdown",
   "id": "2d661ca7-a25f-44ca-9962-df0a6ac7bf7b",
   "metadata": {},
   "source": [
    "Ans: Box plot is also known as a box-and-whisker plot, is commonly used to display data in terms of range. It shows the distribution of the data by displaying the median, quartiles, and outliers of the dataset. The box represents the interquartile range (IQR), which is the range of the middle 50% of the data, while the whiskers extend to the minimum and maximum values within a certain range. Box plots are useful for comparing distributions between different groups or variables."
   ]
  },
  {
   "cell_type": "markdown",
   "id": "adce945b-4386-43f8-9e94-4e2a8169a0dc",
   "metadata": {},
   "source": [
    "Q9. Describe the difference between descriptive and inferential statistics. Give an example of each type of statistics and explain how they are used."
   ]
  },
  {
   "cell_type": "markdown",
   "id": "ef97ff4f-7c71-4e3b-8a77-27bfbe59be52",
   "metadata": {},
   "source": [
    "Ans: Descriptive statistics and inferential statistics are two broad categories of statistical analysis methods used in data analysis.\n",
    "\n",
    "Descriptive statistics is the branch of statistics that deals with the summary and description of the characteristics of a set of data. It includes measures like mean, median, mode, standard deviation, range, and percentiles, which are used to describe and summarize data in a way that is easily understandable. For example, if we want to understand the average income of a particular community, we can calculate the mean income of that community using descriptive statistics.\n",
    "\n",
    "Inferential statistics is the branch of statistics that deals with making generalizations and predictions about a population based on a sample. It involves using sample data to make inferences or draw conclusions about a larger population. For example, if we want to know whether the average income of a particular community is significantly different from the average income of the entire population, we can use inferential statistics to conduct hypothesis testing and make conclusions about the population based on the sample data.\n",
    "    \n",
    "descriptive statistics focus on describing the visible characteristics of a dataset (a population or sample). Meanwhile, inferential statistics focus on making predictions or generalizations about a larger dataset, based on a sample of those data.\n",
    "\n",
    "Forexample: Suppose we want to study the average height of students in a college. Descriptive statistics can be used to calculate the mean, median, and range of the heights of the students in the college. On the other hand, inferential statistics can be used to make generalizations about the height of all students in the school, based on a sample of students. For instance, we can randomly select a sample of 200 students, calculate their average height, and use inferential statistics to make predictions about the average height of all students in the College.\n"
   ]
  },
  {
   "cell_type": "markdown",
   "id": "0ae6309e-9a6a-4fb0-adef-3d594295bd06",
   "metadata": {},
   "source": [
    "Q10. What are some common measures of central tendency and variability used in statistics? Explain how each measure can be used to describe a dataset."
   ]
  },
  {
   "cell_type": "markdown",
   "id": "af621169-936e-4879-b0cb-c23b7d7e96de",
   "metadata": {},
   "source": [
    "Ans: The central tendency measure is defined as the number used to represent the center or middle of a set of data values. The three commonly used measures of central tendency are the mean, median, and mode. \n",
    "\n",
    "Mean : The mean (or average) is the most popular and well known measure of central tendency. It can be used with both discrete and continuous data, although its use is most often with continuous data. The mean is equal to the sum of all the values in the data set divided by the number of values in the data set. \n",
    "\n",
    "Median: The median is the middle value. It is the value that splits the dataset in half, making it a natural measure of central tendency.\n",
    "\n",
    "Mode: The mode is the value that occurs the most frequently in your data set, making it a different type of measure of central tendency than the mean or median.\n",
    "\n",
    "Measure of Dispersion : A statistic that tells us how the data values are dispersed or spread out is called the measure of dispersion.\n",
    "\n",
    "Range: the difference between the highest and lowest values.\n",
    "\n",
    "Variance: The variance is the average of the squared differences from the mean. It is often used to describe how spread out the data is from the mean. For example, the variance of test scores in a class can be used to describe how spread out the scores are from the average score.\n",
    "\n",
    "Standard deviation: average distance from the mean."
   ]
  }
 ],
 "metadata": {
  "kernelspec": {
   "display_name": "Python 3 (ipykernel)",
   "language": "python",
   "name": "python3"
  },
  "language_info": {
   "codemirror_mode": {
    "name": "ipython",
    "version": 3
   },
   "file_extension": ".py",
   "mimetype": "text/x-python",
   "name": "python",
   "nbconvert_exporter": "python",
   "pygments_lexer": "ipython3",
   "version": "3.10.6"
  }
 },
 "nbformat": 4,
 "nbformat_minor": 5
}
